{
  "nbformat": 4,
  "nbformat_minor": 0,
  "metadata": {
    "colab": {
      "provenance": [],
      "authorship_tag": "ABX9TyNfnN02Z46LjdzIxLWMQV2X",
      "include_colab_link": true
    },
    "kernelspec": {
      "name": "python3",
      "display_name": "Python 3"
    },
    "language_info": {
      "name": "python"
    }
  },
  "cells": [
    {
      "cell_type": "markdown",
      "metadata": {
        "id": "view-in-github",
        "colab_type": "text"
      },
      "source": [
        "<a href=\"https://colab.research.google.com/github/Edsonsouza11x/Calcular-Capacidade-Produtiva/blob/main/Calcular_Capacidade_Produtiva.ipynb\" target=\"_parent\"><img src=\"https://colab.research.google.com/assets/colab-badge.svg\" alt=\"Open In Colab\"/></a>"
      ]
    },
    {
      "cell_type": "markdown",
      "source": [
        "\n",
        "---\n",
        "\n",
        "**Apresentação do Projeto: Calcular Capacidade Produtiva**\n",
        "\n",
        "**Introdução:**\n",
        "- Nome do Projeto: Calcular Capacidade Produtiva\n",
        "- Objetivo: Desenvolver uma ferramenta para calcular a capacidade produtiva de uma empresa, levando em consideração diversos parâmetros como tempo de produção, tempo de inatividade da máquina, eficiência da produção e disponibilidade de mão de obra.\n",
        "\n",
        "**Problema:**\n",
        "- Muitas empresas enfrentam desafios ao tentar estimar sua capacidade produtiva de forma precisa, o que pode afetar o planejamento de produção e a tomada de decisões estratégicas.\n",
        "\n",
        "**Solução Proposta:**\n",
        "- Desenvolvimento de um projeto que utiliza uma fórmula ajustada para calcular a capacidade produtiva com base nos parâmetros fornecidos pelo usuário.\n",
        "- A ferramenta será desenvolvida utilizando linguagens de programação como Python, proporcionando uma maneira eficiente e flexível de realizar os cálculos.\n",
        "\n",
        "**INFORMAÇÕES DO PROJETO:**\n",
        "\n",
        "Calcular a capacidade produtiva levando em consideração os parâmetros  mencionados:\n",
        "\n",
        "1. Tempo de inatividade da máquina (TIm)\n",
        "2. Tempo de manutenção (TM)\n",
        "3. Eficiência da produção (EP), que pode ser expressa como uma porcentagem\n",
        "4. Disponibilidade de mão de obra (DM), também expressa como uma porcentagem\n",
        "\n",
        "A fórmula:\n",
        "\n",
        "Capacidade produtiva = (Horas de produção efetiva) x (Unidades produzidas por hora)\n",
        "\n",
        "Onde:\n",
        "\n",
        "Horas de produção efetiva = (Tempo de produção total - Tempo de inatividade da máquina - Tempo de manutenção) x Eficiência da produção x Disponibilidade de mão de obra\n",
        "\n",
        "PROJETO: Suponha que uma fábrica opere 10 horas por dia (Tempo de produção total), com 1 hora de tempo de inatividade da máquina, 30 minutos de manutenção e uma eficiência de produção de 80%, com 90% de disponibilidade de mão de obra. Além disso, ela produz 100 unidades por hora.\n",
        "\n",
        "1. Tempo de produção efetiva = (10 horas - 1 hora - 0,5 hora) x 0,8 x 0,9 = 6,12 horas\n",
        "\n",
        "2. Capacidade produtiva = 6,12 horas x 100 unidades por hora = 612 unidades por dia\n",
        "\n",
        "Portanto, a capacidade produtiva desta fábrica seria de 612 unidades por dia.\n",
        "\n",
        "\n",
        "**Benefícios:**\n",
        "1. Precisão: A ferramenta oferece cálculos precisos da capacidade produtiva, levando em consideração diversos fatores.\n",
        "2. Agilidade: Os cálculos podem ser feitos rapidamente, economizando tempo e recursos.\n",
        "3. Tomada de Decisão: Melhora a tomada de decisões estratégicas relacionadas à produção e planejamento.\n",
        "\n",
        "**Funcionalidades:**\n",
        "1. Entrada de Parâmetros: Permite que o usuário insira os parâmetros relevantes, como tempo de produção, tempo de inatividade da máquina, eficiência da produção e disponibilidade de mão de obra.\n",
        "2. Cálculo Automático: Realiza automaticamente os cálculos com base nos parâmetros fornecidos.\n",
        "3. Resultados Claros: Apresenta os resultados de forma clara e compreensível para o usuário.\n",
        "\n",
        "**Como Utilizar:**\n",
        "1. Insira os parâmetros necessários na ferramenta.\n",
        "2. Execute o script, dependendo da versão da ferramenta escolhida.\n",
        "3. Obtenha os resultados da capacidade produtiva da empresa.\n",
        "\n",
        "**Conclusão:**\n",
        "- O projeto \"Calcular Capacidade Produtiva\" oferece uma solução eficaz para empresas que desejam estimar sua capacidade produtiva de forma precisa e eficiente. Com uma interface amigável e cálculos precisos, a ferramenta auxilia na tomada de decisões estratégicas e no planejamento de produção.\n",
        "\n"
      ],
      "metadata": {
        "id": "rIy2HGUufyM8"
      }
    },
    {
      "cell_type": "markdown",
      "source": [
        "**DEFININDO OS PARÂMETROS**"
      ],
      "metadata": {
        "id": "oQlR8a1ZhL2l"
      }
    },
    {
      "cell_type": "code",
      "source": [
        "# Definindo os parâmetros\n",
        "tempo_producao_total = 10  # horas\n",
        "tempo_inatividade_maquina = 1  # hora\n",
        "tempo_manutencao = 0.5  # hora\n",
        "eficiencia_producao = 0.8  # 80%\n",
        "disponibilidade_mao_de_obra = 0.9  # 90%\n",
        "unidades_por_hora = 100"
      ],
      "metadata": {
        "id": "cAdI8Kg9cCeN"
      },
      "execution_count": 2,
      "outputs": []
    },
    {
      "cell_type": "markdown",
      "source": [
        "**CALCULANDO O TEMPO DE PRODUÇÃO EFETIVA**\n",
        "\n",
        "Horas de produção efetiva = (Tempo de produção total - Tempo de inatividade da máquina - Tempo de manutenção) x Eficiência da produção x Disponibilidade de mão de obra"
      ],
      "metadata": {
        "id": "I8LzNn5phnCP"
      }
    },
    {
      "cell_type": "code",
      "source": [
        "# Calculando o tempo de produção efetiva\n",
        "tempo_producao_efetiva = (tempo_producao_total - tempo_inatividade_maquina - tempo_manutencao) * eficiencia_producao * disponibilidade_mao_de_obra"
      ],
      "metadata": {
        "id": "SXnqeG8FfPJQ"
      },
      "execution_count": 3,
      "outputs": []
    },
    {
      "cell_type": "markdown",
      "source": [
        "**CALCULANDO A CAPACIDADE PRODUTIVA**\n",
        "\n",
        "Capacidade produtiva = (Horas de produção efetiva) x (Unidades produzidas por hora)"
      ],
      "metadata": {
        "id": "NNXgrO0gh2Gp"
      }
    },
    {
      "cell_type": "code",
      "source": [
        "# Calculando a capacidade produtiva\n",
        "capacidade_produtiva = tempo_producao_efetiva * unidades_por_hora"
      ],
      "metadata": {
        "id": "64fNvfVMfRDK"
      },
      "execution_count": 4,
      "outputs": []
    },
    {
      "cell_type": "markdown",
      "source": [
        "**IMPRIMINDO O RESULTADO**"
      ],
      "metadata": {
        "id": "1VE1V_nGiAgy"
      }
    },
    {
      "cell_type": "code",
      "source": [
        "# Imprimindo o resultado\n",
        "print(\"Capacidade produtiva:\", capacidade_produtiva, \"unidades por dia\")"
      ],
      "metadata": {
        "colab": {
          "base_uri": "https://localhost:8080/"
        },
        "id": "AvpU7MZXfUZC",
        "outputId": "a3de2d97-9349-41dd-fb3e-9ebebaee5dd1"
      },
      "execution_count": 5,
      "outputs": [
        {
          "output_type": "stream",
          "name": "stdout",
          "text": [
            "Capacidade produtiva: 612.0000000000001 unidades por dia\n"
          ]
        }
      ]
    },
    {
      "cell_type": "markdown",
      "source": [
        "**PROJETO CONCLUIDO!!**"
      ],
      "metadata": {
        "id": "sfqrQ__XiTzC"
      }
    },
    {
      "cell_type": "code",
      "source": [
        "print(\"Muito Obrigado!!! Até o Próximo Projeto.\")"
      ],
      "metadata": {
        "colab": {
          "base_uri": "https://localhost:8080/"
        },
        "id": "ElH8zEP2fXRR",
        "outputId": "3e45e15e-b31b-42f0-c14e-6dc732d01e17"
      },
      "execution_count": 8,
      "outputs": [
        {
          "output_type": "stream",
          "name": "stdout",
          "text": [
            "Muito Obrigado!!! Até o Próximo Projeto.\n"
          ]
        }
      ]
    }
  ]
}